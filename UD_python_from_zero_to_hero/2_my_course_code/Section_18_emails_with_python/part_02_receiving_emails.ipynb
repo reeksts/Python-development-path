{
 "cells": [
  {
   "cell_type": "code",
   "execution_count": 45,
   "id": "0815eba6",
   "metadata": {},
   "outputs": [],
   "source": [
    "import imaplib"
   ]
  },
  {
   "cell_type": "code",
   "execution_count": 46,
   "id": "95bacf2e",
   "metadata": {},
   "outputs": [],
   "source": [
    "M = imaplib.IMAP4_SSL('imap.gmail.com')"
   ]
  },
  {
   "cell_type": "code",
   "execution_count": 47,
   "id": "b2c04437",
   "metadata": {},
   "outputs": [],
   "source": [
    "import getpass"
   ]
  },
  {
   "cell_type": "code",
   "execution_count": 48,
   "id": "4c616391",
   "metadata": {},
   "outputs": [
    {
     "name": "stdout",
     "output_type": "stream",
     "text": [
      "Email: ········\n",
      "Password: ········\n"
     ]
    }
   ],
   "source": [
    "email = getpass.getpass('Email: ')\n",
    "password = getpass.getpass('Password: ')"
   ]
  },
  {
   "cell_type": "code",
   "execution_count": 49,
   "id": "18c3435d",
   "metadata": {},
   "outputs": [
    {
     "data": {
      "text/plain": [
       "('OK', [b'karlis.rieksts@gmail.com authenticated (Success)'])"
      ]
     },
     "execution_count": 49,
     "metadata": {},
     "output_type": "execute_result"
    }
   ],
   "source": [
    "M.login(email, password)"
   ]
  },
  {
   "cell_type": "code",
   "execution_count": 50,
   "id": "b7cdfea4",
   "metadata": {},
   "outputs": [
    {
     "data": {
      "text/plain": [
       "('OK',\n",
       " [b'(\\\\HasNoChildren) \"/\" \"INBOX\"',\n",
       "  b'(\\\\HasChildren \\\\Noselect) \"/\" \"[Gmail]\"',\n",
       "  b'(\\\\All \\\\HasNoChildren) \"/\" \"[Gmail]/All Mail\"',\n",
       "  b'(\\\\Drafts \\\\HasNoChildren) \"/\" \"[Gmail]/Drafts\"',\n",
       "  b'(\\\\HasNoChildren \\\\Important) \"/\" \"[Gmail]/Important\"',\n",
       "  b'(\\\\HasNoChildren \\\\Sent) \"/\" \"[Gmail]/Sent Mail\"',\n",
       "  b'(\\\\HasNoChildren \\\\Junk) \"/\" \"[Gmail]/Spam\"',\n",
       "  b'(\\\\Flagged \\\\HasNoChildren) \"/\" \"[Gmail]/Starred\"',\n",
       "  b'(\\\\HasNoChildren \\\\Trash) \"/\" \"[Gmail]/Trash\"',\n",
       "  b'(\\\\HasNoChildren) \"/\" \"none\"',\n",
       "  b'(\\\\HasNoChildren) \"/\" \"online-shops\"',\n",
       "  b'(\\\\HasNoChildren) \"/\" \"poparide\"'])"
      ]
     },
     "execution_count": 50,
     "metadata": {},
     "output_type": "execute_result"
    }
   ],
   "source": [
    "M.list()"
   ]
  },
  {
   "cell_type": "code",
   "execution_count": 51,
   "id": "b58c8efe",
   "metadata": {},
   "outputs": [
    {
     "data": {
      "text/plain": [
       "('OK', [b'25516'])"
      ]
     },
     "execution_count": 51,
     "metadata": {},
     "output_type": "execute_result"
    }
   ],
   "source": [
    "M.select('inbox')"
   ]
  },
  {
   "cell_type": "code",
   "execution_count": 52,
   "id": "2c67ad5c",
   "metadata": {},
   "outputs": [],
   "source": [
    "typ ,data = M.search(None,'SUBJECT \"pink hippopotamus\"')"
   ]
  },
  {
   "cell_type": "code",
   "execution_count": 53,
   "id": "327e7dc0",
   "metadata": {},
   "outputs": [
    {
     "data": {
      "text/plain": [
       "'OK'"
      ]
     },
     "execution_count": 53,
     "metadata": {},
     "output_type": "execute_result"
    }
   ],
   "source": [
    "typ"
   ]
  },
  {
   "cell_type": "code",
   "execution_count": 54,
   "id": "565dc6e3",
   "metadata": {},
   "outputs": [
    {
     "data": {
      "text/plain": [
       "[b'25516']"
      ]
     },
     "execution_count": 54,
     "metadata": {},
     "output_type": "execute_result"
    }
   ],
   "source": [
    "data"
   ]
  },
  {
   "cell_type": "code",
   "execution_count": 56,
   "id": "6059dd99",
   "metadata": {},
   "outputs": [],
   "source": [
    "for dat in data[0].split():\n",
    "    result , email_data = M.fetch(dat,\"(RFC822)\")"
   ]
  },
  {
   "cell_type": "code",
   "execution_count": 60,
   "id": "99733824",
   "metadata": {},
   "outputs": [],
   "source": [
    "raw_email = email_data[0][1]"
   ]
  },
  {
   "cell_type": "code",
   "execution_count": 61,
   "id": "83671b07",
   "metadata": {},
   "outputs": [],
   "source": [
    "raw_email_string = raw_email.decode('utf-8')"
   ]
  },
  {
   "cell_type": "code",
   "execution_count": 62,
   "id": "043cf170",
   "metadata": {},
   "outputs": [],
   "source": [
    "import email"
   ]
  },
  {
   "cell_type": "code",
   "execution_count": 63,
   "id": "0304f241",
   "metadata": {},
   "outputs": [],
   "source": [
    "email_message = email.message_from_string(raw_email_string)"
   ]
  },
  {
   "cell_type": "code",
   "execution_count": 64,
   "id": "973c793a",
   "metadata": {},
   "outputs": [
    {
     "data": {
      "text/plain": [
       "<email.message.Message at 0x1af3a70cd88>"
      ]
     },
     "execution_count": 64,
     "metadata": {},
     "output_type": "execute_result"
    }
   ],
   "source": [
    "email_message"
   ]
  },
  {
   "cell_type": "code",
   "execution_count": 66,
   "id": "97fb471a",
   "metadata": {},
   "outputs": [
    {
     "name": "stdout",
     "output_type": "stream",
     "text": [
      "b'pink hippopotamus\\r\\n\\r\\n-- \\r\\nBest regards,\\r\\nKarlis Rieksts\\r\\n'\n"
     ]
    }
   ],
   "source": [
    "for part in email_message.walk():\n",
    "    if part.get_content_type() == 'text/plain':\n",
    "        body = part.get_payload(decode=True)\n",
    "        print(body)"
   ]
  },
  {
   "cell_type": "code",
   "execution_count": null,
   "id": "afbfc185",
   "metadata": {},
   "outputs": [],
   "source": []
  }
 ],
 "metadata": {
  "kernelspec": {
   "display_name": "Python 3",
   "language": "python",
   "name": "python3"
  },
  "language_info": {
   "codemirror_mode": {
    "name": "ipython",
    "version": 3
   },
   "file_extension": ".py",
   "mimetype": "text/x-python",
   "name": "python",
   "nbconvert_exporter": "python",
   "pygments_lexer": "ipython3",
   "version": "3.7.6"
  }
 },
 "nbformat": 4,
 "nbformat_minor": 5
}
