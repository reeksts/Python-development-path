{
 "cells": [
  {
   "cell_type": "code",
   "execution_count": 6,
   "id": "ab2ae75e",
   "metadata": {},
   "outputs": [],
   "source": [
    "import smtplib"
   ]
  },
  {
   "cell_type": "code",
   "execution_count": 7,
   "id": "41450a95",
   "metadata": {},
   "outputs": [],
   "source": [
    "smtp_object = smtplib.SMTP('smtp.gmail.com', 587)"
   ]
  },
  {
   "cell_type": "code",
   "execution_count": 8,
   "id": "ba052ab2",
   "metadata": {},
   "outputs": [
    {
     "data": {
      "text/plain": [
       "(250,\n",
       " b'smtp.gmail.com at your service, [188.124.154.170]\\nSIZE 35882577\\n8BITMIME\\nSTARTTLS\\nENHANCEDSTATUSCODES\\nPIPELINING\\nCHUNKING\\nSMTPUTF8')"
      ]
     },
     "execution_count": 8,
     "metadata": {},
     "output_type": "execute_result"
    }
   ],
   "source": [
    "smtp_object.ehlo()"
   ]
  },
  {
   "cell_type": "code",
   "execution_count": 9,
   "id": "1fcf0609",
   "metadata": {},
   "outputs": [
    {
     "data": {
      "text/plain": [
       "(220, b'2.0.0 Ready to start TLS')"
      ]
     },
     "execution_count": 9,
     "metadata": {},
     "output_type": "execute_result"
    }
   ],
   "source": [
    "smtp_object.starttls()"
   ]
  },
  {
   "cell_type": "code",
   "execution_count": 10,
   "id": "575f552f",
   "metadata": {},
   "outputs": [],
   "source": [
    "import getpass"
   ]
  },
  {
   "cell_type": "code",
   "execution_count": 11,
   "id": "acf7c679",
   "metadata": {},
   "outputs": [
    {
     "name": "stdout",
     "output_type": "stream",
     "text": [
      "Email: ········\n",
      "Password: ········\n"
     ]
    },
    {
     "data": {
      "text/plain": [
       "(235, b'2.7.0 Accepted')"
      ]
     },
     "execution_count": 11,
     "metadata": {},
     "output_type": "execute_result"
    }
   ],
   "source": [
    "email = getpass.getpass('Email: ')\n",
    "password = getpass.getpass('Password: ')\n",
    "smtp_object.login(email, password)"
   ]
  },
  {
   "cell_type": "code",
   "execution_count": 12,
   "id": "c288f2ff",
   "metadata": {},
   "outputs": [
    {
     "name": "stdout",
     "output_type": "stream",
     "text": [
      "enter the subject line: refef\n",
      "enter the message: efeefef\n"
     ]
    },
    {
     "data": {
      "text/plain": [
       "{}"
      ]
     },
     "execution_count": 12,
     "metadata": {},
     "output_type": "execute_result"
    }
   ],
   "source": [
    "from_address = 'karlis.rieksts@gmail.com'\n",
    "to_address = 'karlis.rieksts@gmail.com'\n",
    "subject = input('enter the subject line: ')\n",
    "message = input('enter the message: ')\n",
    "msg = 'Subject: '+ '\\n' + message\n",
    "smtp_object.sendmail(from_address, to_address, msg)"
   ]
  },
  {
   "cell_type": "code",
   "execution_count": 13,
   "id": "188ff922",
   "metadata": {},
   "outputs": [
    {
     "data": {
      "text/plain": [
       "(221, b'2.0.0 closing connection e8sm925633lft.281 - gsmtp')"
      ]
     },
     "execution_count": 13,
     "metadata": {},
     "output_type": "execute_result"
    }
   ],
   "source": [
    "smtp_object.quit()"
   ]
  },
  {
   "cell_type": "code",
   "execution_count": null,
   "id": "162e2067",
   "metadata": {},
   "outputs": [],
   "source": []
  }
 ],
 "metadata": {
  "kernelspec": {
   "display_name": "Python 3",
   "language": "python",
   "name": "python3"
  },
  "language_info": {
   "codemirror_mode": {
    "name": "ipython",
    "version": 3
   },
   "file_extension": ".py",
   "mimetype": "text/x-python",
   "name": "python",
   "nbconvert_exporter": "python",
   "pygments_lexer": "ipython3",
   "version": "3.7.6"
  }
 },
 "nbformat": 4,
 "nbformat_minor": 5
}
