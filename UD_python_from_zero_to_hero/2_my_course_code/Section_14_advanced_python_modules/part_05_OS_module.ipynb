{
 "cells": [
  {
   "cell_type": "code",
   "execution_count": 16,
   "id": "7e2e0736",
   "metadata": {},
   "outputs": [
    {
     "data": {
      "text/plain": [
       "'C:\\\\Users\\\\karlisr\\\\Google Drive\\\\VISSTAS\\\\PROJECTS\\\\Udemy_courses\\\\2_Python\\\\1_Python_from_zero_to_hero\\\\2_my_course_code\\\\Section_14_advanced_python_modules'"
      ]
     },
     "execution_count": 16,
     "metadata": {},
     "output_type": "execute_result"
    }
   ],
   "source": [
    "pwd"
   ]
  },
  {
   "cell_type": "code",
   "execution_count": 17,
   "id": "20a8979b",
   "metadata": {},
   "outputs": [],
   "source": [
    "f = open('practice.txt', 'w+')\n",
    "f.write('This is a test string')\n",
    "f.close()"
   ]
  },
  {
   "cell_type": "code",
   "execution_count": 18,
   "id": "7b25c16d",
   "metadata": {},
   "outputs": [],
   "source": [
    "import os"
   ]
  },
  {
   "cell_type": "code",
   "execution_count": 19,
   "id": "17057ca1",
   "metadata": {},
   "outputs": [
    {
     "data": {
      "text/plain": [
       "'C:\\\\Users\\\\karlisr\\\\Google Drive\\\\VISSTAS\\\\PROJECTS\\\\Udemy_courses\\\\2_Python\\\\1_Python_from_zero_to_hero\\\\2_my_course_code\\\\Section_14_advanced_python_modules'"
      ]
     },
     "execution_count": 19,
     "metadata": {},
     "output_type": "execute_result"
    }
   ],
   "source": [
    "os.getcwd()"
   ]
  },
  {
   "cell_type": "code",
   "execution_count": 20,
   "id": "492d3fbb",
   "metadata": {},
   "outputs": [
    {
     "data": {
      "text/plain": [
       "['.ipynb_checkpoints',\n",
       " 'part_01_Counter_from_collections.ipynb',\n",
       " 'part_02_Default_dictionaryfrom_collections.ipynb',\n",
       " 'part_03_ordereddictionary_from_collections.ipynb',\n",
       " 'part_04_namedtuple_from_collections.ipynb',\n",
       " 'part_05_OS_module.ipynb',\n",
       " 'part_5_datetime.ipynb',\n",
       " 'part_6_debugger.ipynb',\n",
       " 'part_7_timing_code.ipynb',\n",
       " 'part_8_regular_expressions.ipynb',\n",
       " 'practice.txt']"
      ]
     },
     "execution_count": 20,
     "metadata": {},
     "output_type": "execute_result"
    }
   ],
   "source": [
    "os.listdir()"
   ]
  },
  {
   "cell_type": "code",
   "execution_count": 21,
   "id": "c8159700",
   "metadata": {},
   "outputs": [],
   "source": [
    "import shutil"
   ]
  },
  {
   "cell_type": "code",
   "execution_count": 22,
   "id": "dda70149",
   "metadata": {},
   "outputs": [],
   "source": [
    "#shutil.move('practice.txt', 'C:\\\\Users\\\\karlisr')"
   ]
  },
  {
   "cell_type": "code",
   "execution_count": 23,
   "id": "2d0b21b8",
   "metadata": {
    "scrolled": true
   },
   "outputs": [
    {
     "name": "stdout",
     "output_type": "stream",
     "text": [
      "Currently looking at folder: C:\\Users\\karlisr\\Google Drive\\VISSTAS\\PROJECTS\\Udemy_courses\\2_Python\\1_Python_from_zero_to_hero\\1_course_material\\12-Advanced Python Modules\\Example_Top_Level\n",
      "\n",
      "\n",
      "THE SUBFOLDERS ARE: \n",
      "\t Subfolder: Mid-Example-One\n",
      "\n",
      "\n",
      "THE FILES ARE: \n",
      "\t File: Mid-Example.txt\n",
      "\n",
      "\n",
      "Currently looking at folder: C:\\Users\\karlisr\\Google Drive\\VISSTAS\\PROJECTS\\Udemy_courses\\2_Python\\1_Python_from_zero_to_hero\\1_course_material\\12-Advanced Python Modules\\Example_Top_Level\\Mid-Example-One\n",
      "\n",
      "\n",
      "THE SUBFOLDERS ARE: \n",
      "\t Subfolder: Bottom-Level-One\n",
      "\t Subfolder: Bottom-Level-Two\n",
      "\n",
      "\n",
      "THE FILES ARE: \n",
      "\t File: Mid-Level-Doc.txt\n",
      "\n",
      "\n",
      "Currently looking at folder: C:\\Users\\karlisr\\Google Drive\\VISSTAS\\PROJECTS\\Udemy_courses\\2_Python\\1_Python_from_zero_to_hero\\1_course_material\\12-Advanced Python Modules\\Example_Top_Level\\Mid-Example-One\\Bottom-Level-One\n",
      "\n",
      "\n",
      "THE SUBFOLDERS ARE: \n",
      "\n",
      "\n",
      "THE FILES ARE: \n",
      "\t File: One_Text.txt\n",
      "\n",
      "\n",
      "Currently looking at folder: C:\\Users\\karlisr\\Google Drive\\VISSTAS\\PROJECTS\\Udemy_courses\\2_Python\\1_Python_from_zero_to_hero\\1_course_material\\12-Advanced Python Modules\\Example_Top_Level\\Mid-Example-One\\Bottom-Level-Two\n",
      "\n",
      "\n",
      "THE SUBFOLDERS ARE: \n",
      "\n",
      "\n",
      "THE FILES ARE: \n",
      "\t File: Bottom-Text-Two.txt\n",
      "\n",
      "\n"
     ]
    }
   ],
   "source": [
    "for folder , sub_folders , files in os.walk('C:\\\\Users\\\\karlisr\\\\Google Drive\\\\VISSTAS\\\\PROJECTS\\\\Udemy_courses\\\\2_Python\\\\1_Python_from_zero_to_hero\\\\1_course_material\\\\12-Advanced Python Modules\\\\Example_Top_Level'):\n",
    "    \n",
    "    print(\"Currently looking at folder: \"+ folder)\n",
    "    print('\\n')\n",
    "    print(\"THE SUBFOLDERS ARE: \")\n",
    "    for sub_fold in sub_folders:\n",
    "        print(\"\\t Subfolder: \"+sub_fold )\n",
    "    \n",
    "    print('\\n')\n",
    "    \n",
    "    print(\"THE FILES ARE: \")\n",
    "    for f in files:\n",
    "        print(\"\\t File: \"+f)\n",
    "    print('\\n')"
   ]
  }
 ],
 "metadata": {
  "kernelspec": {
   "display_name": "Python 3",
   "language": "python",
   "name": "python3"
  },
  "language_info": {
   "codemirror_mode": {
    "name": "ipython",
    "version": 3
   },
   "file_extension": ".py",
   "mimetype": "text/x-python",
   "name": "python",
   "nbconvert_exporter": "python",
   "pygments_lexer": "ipython3",
   "version": "3.7.6"
  }
 },
 "nbformat": 4,
 "nbformat_minor": 5
}
